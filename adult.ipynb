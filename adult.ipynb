{
 "cells": [
  {
   "cell_type": "code",
   "execution_count": 2,
   "metadata": {},
   "outputs": [
    {
     "name": "stderr",
     "output_type": "stream",
     "text": [
      "/home/luca.corbucci/fl_puf/.venv/lib/python3.8/site-packages/tqdm/auto.py:21: TqdmWarning: IProgress not found. Please update jupyter and ipywidgets. See https://ipywidgets.readthedocs.io/en/stable/user_install.html\n",
      "  from .autonotebook import tqdm as notebook_tqdm\n",
      "2023-11-21 17:27:19,674\tINFO util.py:159 -- Missing packages: ['ipywidgets']. Run `pip install -U ipywidgets`, then restart the notebook server for rich notebook output.\n"
     ]
    }
   ],
   "source": [
    "from torch.utils.data import Dataset\n",
    "from fl_puf.Utils.tabular_data_loader import get_tabular_numpy_dataset\n",
    "import torch.nn as nn\n",
    "import numpy as np\n",
    "import torch \n",
    "from torch import nn"
   ]
  },
  {
   "cell_type": "code",
   "execution_count": 3,
   "metadata": {},
   "outputs": [],
   "source": [
    "class TabularDataset(Dataset):\n",
    "    def __init__(self, x, z, y):\n",
    "        \"\"\"\n",
    "        Initialize the custom dataset with x (features), z (sensitive values), and y (targets).\n",
    "\n",
    "        Args:\n",
    "        x (list of tensors): List of input feature tensors.\n",
    "        z (list): List of sensitive values.\n",
    "        y (list): List of target values.\n",
    "        \"\"\"\n",
    "        self.samples = x\n",
    "        self.sensitive_features = z\n",
    "        self.sensitive_attribute = z\n",
    "        self.gender = z\n",
    "        self.classes = y\n",
    "        self.targets = y\n",
    "\n",
    "    def __len__(self):\n",
    "        return len(self.samples)\n",
    "\n",
    "    def __getitem__(self, idx):\n",
    "        \"\"\"\n",
    "        Get a single data point from the dataset.\n",
    "\n",
    "        Args:\n",
    "        idx (int): Index to retrieve the data point.\n",
    "\n",
    "        Returns:\n",
    "        sample (dict): A dictionary containing 'x', 'z', and 'y'.\n",
    "        \"\"\"\n",
    "        x_sample = self.samples[idx]\n",
    "        z_sample = self.sensitive_features[idx]\n",
    "        y_sample = self.targets[idx]\n",
    "\n",
    "        return x_sample, z_sample, y_sample\n",
    "\n",
    "\n",
    "class LinearClassificationNet(nn.Module):\n",
    "    \"\"\"\n",
    "    A fully-connected single-layer linear NN for classification.\n",
    "    \"\"\"\n",
    "\n",
    "    def __init__(self, input_size=11, output_size=2):\n",
    "        super(LinearClassificationNet, self).__init__()\n",
    "        self.layer1 = nn.Linear(input_size, output_size, bias=False)\n",
    "\n",
    "    def forward(self, x):\n",
    "        x = self.layer1(x.float())\n",
    "        return x\n"
   ]
  },
  {
   "cell_type": "code",
   "execution_count": 4,
   "metadata": {},
   "outputs": [
    {
     "name": "stdout",
     "output_type": "stream",
     "text": [
      "Using ['sex_binary'] as sensitive feature(s).\n",
      "(32561, 110)\n"
     ]
    }
   ],
   "source": [
    "X, z, y = get_tabular_numpy_dataset(\n",
    "        dataset_name=\"adult\",\n",
    "        num_sensitive_features=1,\n",
    "        dataset_path=\"./data/Tabular/adult/\",\n",
    "    )\n",
    "print(X.shape)"
   ]
  },
  {
   "cell_type": "code",
   "execution_count": 4,
   "metadata": {},
   "outputs": [],
   "source": [
    "custom_dataset = TabularDataset(\n",
    "        x=X, z=z, y=y\n",
    ")\n",
    "\n",
    "train_loader = torch.utils.data.DataLoader(\n",
    "    custom_dataset,\n",
    "    batch_size=32,\n",
    ")"
   ]
  },
  {
   "cell_type": "code",
   "execution_count": 23,
   "metadata": {},
   "outputs": [],
   "source": [
    "def accuracy(preds, labels):\n",
    "    return (preds == labels).mean()\n",
    "\n",
    "def train(model, train_loader, optimizer, epoch, device):\n",
    "    model.train()\n",
    "    criterion = nn.CrossEntropyLoss()\n",
    "\n",
    "    losses = []\n",
    "    top1_acc = []\n",
    "\n",
    "    for i, (images, sensitive_value,  target) in enumerate(train_loader):\n",
    "        optimizer.zero_grad()\n",
    "        images = images.to(device)\n",
    "        target = target.long()\n",
    "        target = target.to(device)\n",
    "\n",
    "        \n",
    "\n",
    "        # compute output\n",
    "        output = model(images)\n",
    "        \n",
    "        loss = criterion(output, target)\n",
    "\n",
    "        \n",
    "\n",
    "        preds = np.argmax(output.detach().cpu().numpy(), axis=1)\n",
    "        labels = target.detach().cpu().numpy()\n",
    "\n",
    "        # measure accuracy and record loss\n",
    "        acc = accuracy(preds, labels)\n",
    "\n",
    "        losses.append(loss.item())\n",
    "        top1_acc.append(acc)\n",
    "\n",
    "        loss.backward()\n",
    "        optimizer.step()\n",
    "\n",
    "        if (i+1) % 200 == 0:\n",
    "            print(\n",
    "                f\"\\tTrain Epoch: {epoch} \\t\"\n",
    "                f\"Loss: {np.mean(losses):.6f} \"\n",
    "                f\"Acc@1: {np.mean(top1_acc) * 100:.6f} \"\n",
    "            )"
   ]
  },
  {
   "cell_type": "code",
   "execution_count": 6,
   "metadata": {},
   "outputs": [],
   "source": [
    "model = LinearClassificationNet(input_size=110, output_size=2)"
   ]
  },
  {
   "cell_type": "code",
   "execution_count": 24,
   "metadata": {},
   "outputs": [
    {
     "name": "stdout",
     "output_type": "stream",
     "text": [
      "\tTrain Epoch: 2 \tLoss: 0.335527 Acc@1: 84.218750 \n",
      "\tTrain Epoch: 2 \tLoss: 0.333461 Acc@1: 84.468750 \n",
      "\tTrain Epoch: 2 \tLoss: 0.331134 Acc@1: 84.552083 \n",
      "\tTrain Epoch: 2 \tLoss: 0.327464 Acc@1: 84.730469 \n",
      "\tTrain Epoch: 2 \tLoss: 0.326217 Acc@1: 84.828125 \n"
     ]
    }
   ],
   "source": [
    "train(model=model, \n",
    "        train_loader=train_loader, \n",
    "        optimizer=torch.optim.Adam(\n",
    "                model.parameters(),\n",
    "                lr=0.01,\n",
    "            ), \n",
    "        epoch=2, \n",
    "        device=\"cpu\")"
   ]
  }
 ],
 "metadata": {
  "kernelspec": {
   "display_name": ".venv",
   "language": "python",
   "name": "python3"
  },
  "language_info": {
   "codemirror_mode": {
    "name": "ipython",
    "version": 3
   },
   "file_extension": ".py",
   "mimetype": "text/x-python",
   "name": "python",
   "nbconvert_exporter": "python",
   "pygments_lexer": "ipython3",
   "version": "3.8.10"
  }
 },
 "nbformat": 4,
 "nbformat_minor": 2
}
