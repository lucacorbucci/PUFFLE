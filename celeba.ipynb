{
 "cells": [
  {
   "cell_type": "code",
   "execution_count": 2,
   "metadata": {},
   "outputs": [],
   "source": [
    "import pandas as pd\n",
    "import torch"
   ]
  },
  {
   "cell_type": "code",
   "execution_count": null,
   "metadata": {},
   "outputs": [],
   "source": [
    "df = pd.read_csv(\"/mnt/NAS/user/luca.corbucci/data/celeba/train_original.csv\")"
   ]
  },
  {
   "cell_type": "code",
   "execution_count": null,
   "metadata": {},
   "outputs": [],
   "source": [
    "df_test = pd.read_csv(\"./data/celeba/test_original.csv\")\n",
    "df_test[\"Male\"].value_counts()\n"
   ]
  },
  {
   "cell_type": "code",
   "execution_count": null,
   "metadata": {},
   "outputs": [],
   "source": [
    "df[\"Smiling\"].value_counts()\n"
   ]
  },
  {
   "cell_type": "code",
   "execution_count": null,
   "metadata": {},
   "outputs": [],
   "source": [
    "df.head()\n"
   ]
  },
  {
   "cell_type": "code",
   "execution_count": null,
   "metadata": {},
   "outputs": [],
   "source": [
    "male_indexes = list(df[(df[\"Male\"] == 1) & (df[\"Smiling\"] == 1)].index)\n",
    "len(male_indexes)\n"
   ]
  },
  {
   "cell_type": "code",
   "execution_count": null,
   "metadata": {},
   "outputs": [],
   "source": [
    "from random import sample\n",
    "\n",
    "# Prints list of random items of given length\n",
    "sampled_indexes = sample(male_indexes, 17036)\n",
    "len(sampled_indexes)"
   ]
  },
  {
   "cell_type": "code",
   "execution_count": null,
   "metadata": {},
   "outputs": [],
   "source": [
    "unfair_dataset = df.drop(sampled_indexes)\n"
   ]
  },
  {
   "cell_type": "code",
   "execution_count": null,
   "metadata": {},
   "outputs": [],
   "source": [
    "unfair_dataset.to_csv(\"./data/celeba/unfair_train.csv\")\n"
   ]
  },
  {
   "cell_type": "code",
   "execution_count": null,
   "metadata": {},
   "outputs": [],
   "source": [
    "unfair_dataset = pd.read_csv(\"./data/celeba/unfair_train.csv\")\n"
   ]
  },
  {
   "cell_type": "code",
   "execution_count": null,
   "metadata": {},
   "outputs": [],
   "source": [
    "unfair_dataset[\"Male\"].value_counts()\n"
   ]
  },
  {
   "cell_type": "code",
   "execution_count": null,
   "metadata": {},
   "outputs": [],
   "source": [
    "from collections import Counter\n",
    "\n",
    "sens_labels = []\n",
    "for index, row in unfair_dataset.iterrows():\n",
    "    sens = row[\"Male\"]\n",
    "    label = row[\"Smiling\"]\n",
    "    sens_labels.append((label, sens))\n",
    "\n",
    "Counter(sens_labels)\n"
   ]
  },
  {
   "cell_type": "code",
   "execution_count": null,
   "metadata": {},
   "outputs": [],
   "source": [
    "from random import sample\n",
    "\n",
    "male_indexes = list(df_test[(df_test[\"Male\"] == 1) & (df_test[\"Smiling\"] == 1)].index)\n",
    "len(male_indexes)\n",
    "\n",
    "# Prints list of random items of given length\n",
    "sampled_indexes = sample(male_indexes, 4562)\n",
    "len(sampled_indexes)\n",
    "\n",
    "unfair_dataset_test = df_test.drop(sampled_indexes)\n",
    "unfair_dataset_test.to_csv(\"./data/celeba/unfair_test.csv\")\n",
    "\n",
    "from collections import Counter\n",
    "\n",
    "sens_labels = []\n",
    "for index, row in unfair_dataset_test.iterrows():\n",
    "    sens = row[\"Male\"]\n",
    "    label = row[\"Smiling\"]\n",
    "    sens_labels.append((label, sens))\n",
    "\n",
    "Counter(sens_labels)\n"
   ]
  },
  {
   "cell_type": "code",
   "execution_count": null,
   "metadata": {},
   "outputs": [],
   "source": []
  },
  {
   "cell_type": "code",
   "execution_count": null,
   "metadata": {},
   "outputs": [],
   "source": []
  },
  {
   "cell_type": "code",
   "execution_count": null,
   "metadata": {},
   "outputs": [],
   "source": []
  },
  {
   "cell_type": "code",
   "execution_count": 13,
   "metadata": {},
   "outputs": [
    {
     "name": "stdout",
     "output_type": "stream",
     "text": [
      "206\n",
      "418\n",
      "204\n",
      "0\n",
      "0\n",
      "0\n",
      "0\n",
      "0\n",
      "0\n",
      "0\n",
      "154\n",
      "239\n",
      "175\n",
      "0\n",
      "0\n",
      "0\n",
      "0\n",
      "0\n",
      "0\n",
      "0\n",
      "440\n",
      "814\n",
      "434\n",
      "0\n",
      "0\n",
      "0\n",
      "0\n",
      "0\n",
      "0\n",
      "0\n",
      "388\n",
      "207\n",
      "246\n",
      "0\n",
      "0\n",
      "0\n",
      "0\n",
      "0\n",
      "0\n",
      "0\n",
      "445\n",
      "461\n",
      "337\n",
      "0\n",
      "0\n",
      "0\n",
      "0\n",
      "0\n",
      "0\n",
      "0\n",
      "320\n",
      "377\n",
      "273\n",
      "0\n",
      "0\n",
      "0\n",
      "0\n",
      "0\n",
      "0\n",
      "0\n",
      "383\n",
      "150\n",
      "320\n",
      "0\n",
      "0\n",
      "0\n",
      "0\n",
      "0\n",
      "0\n",
      "0\n",
      "313\n",
      "221\n",
      "669\n",
      "0\n",
      "0\n",
      "0\n",
      "0\n",
      "0\n",
      "0\n",
      "0\n",
      "455\n",
      "258\n",
      "323\n",
      "0\n",
      "0\n",
      "0\n",
      "0\n",
      "0\n",
      "0\n",
      "0\n",
      "358\n",
      "254\n",
      "158\n",
      "0\n",
      "0\n",
      "0\n",
      "0\n",
      "0\n",
      "0\n",
      "0\n"
     ]
    },
    {
     "ename": "",
     "evalue": "",
     "output_type": "error",
     "traceback": [
      "\u001b[1;31mThe Kernel crashed while executing code in the the current cell or a previous cell. Please review the code in the cell(s) to identify a possible cause of the failure. Click <a href='https://aka.ms/vscodeJupyterKernelCrash'>here</a> for more info. View Jupyter <a href='command:jupyter.viewOutput'>log</a> for further details."
     ]
    }
   ],
   "source": [
    "folder = \"./data/celeba/celeba-10-batches-py/federated/\"\n",
    "pool_size = 100\n",
    "sens = []\n",
    "targets = []\n",
    "\n",
    "for item in range(0, pool_size):\n",
    "    file_name = folder + \"/\" + str(item) + \"/train.pt\"\n",
    "    _, sensitive_features, target_list = torch.load(file_name)\n",
    "    sens.append(sensitive_features)\n",
    "    targets.append(target_list)\n",
    "\n",
    "\n",
    "for targ, s in zip(targets, sens):\n",
    "    counter = 0\n",
    "    for t, ss in zip(targ, s):\n",
    "        if t.item() == 1 and ss.item() == 1:\n",
    "            counter += 1\n",
    "    print(counter)\n"
   ]
  }
 ],
 "metadata": {
  "kernelspec": {
   "display_name": "fl-puf-3J7Q0esd-py3.8",
   "language": "python",
   "name": "python3"
  },
  "language_info": {
   "codemirror_mode": {
    "name": "ipython",
    "version": 3
   },
   "file_extension": ".py",
   "mimetype": "text/x-python",
   "name": "python",
   "nbconvert_exporter": "python",
   "pygments_lexer": "ipython3",
   "version": "3.8.10"
  },
  "orig_nbformat": 4
 },
 "nbformat": 4,
 "nbformat_minor": 2
}
