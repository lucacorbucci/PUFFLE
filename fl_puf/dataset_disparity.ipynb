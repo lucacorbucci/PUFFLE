{
 "cells": [
  {
   "cell_type": "code",
   "execution_count": 1,
   "metadata": {},
   "outputs": [
    {
     "name": "stderr",
     "output_type": "stream",
     "text": [
      "/home/luca.corbucci/fl_puf/.venv/lib/python3.8/site-packages/tqdm/auto.py:21: TqdmWarning: IProgress not found. Please update jupyter and ipywidgets. See https://ipywidgets.readthedocs.io/en/stable/user_install.html\n",
      "  from .autonotebook import tqdm as notebook_tqdm\n",
      "2023-10-27 17:18:06,447\tINFO util.py:159 -- Missing packages: ['ipywidgets']. Run `pip install -U ipywidgets`, then restart the notebook server for rich notebook output.\n"
     ]
    }
   ],
   "source": [
    "import numpy as np\n",
    "from DPL.RegularizationLoss import RegularizationLoss\n",
    "from fl_puf.Utils.utils import Utils\n",
    "from pathlib import Path\n",
    "from collections import Counter"
   ]
  },
  {
   "cell_type": "code",
   "execution_count": 3,
   "metadata": {},
   "outputs": [
    {
     "name": "stdout",
     "output_type": "stream",
     "text": [
      "Counter({(0, 1): 244, (1, 0): 235, (0, 0): 216, (1, 1): 206})\n",
      "Counter({0: 460, 1: 441})\n",
      "460\n",
      "441\n",
      "0 0 0.06331460120279991\n",
      "Counter({0: 460, 1: 441})\n",
      "441\n",
      "460\n",
      "0 1 0.06331460120279991\n",
      "Counter({0: 460, 1: 441})\n",
      "460\n",
      "441\n",
      "1 0 0.06331460120280002\n",
      "Counter({0: 460, 1: 441})\n",
      "441\n",
      "460\n",
      "1 1 0.06331460120280002\n"
     ]
    },
    {
     "data": {
      "text/plain": [
       "[0.06331460120279991,\n",
       " 0.06331460120279991,\n",
       " 0.06331460120280002,\n",
       " 0.06331460120280002]"
      ]
     },
     "execution_count": 3,
     "metadata": {},
     "output_type": "execute_result"
    }
   ],
   "source": [
    "\n",
    "train_loader = Utils.get_dataloader(\n",
    "            Path(\"../data/celeba/celeba-10-batches-py/federated/\"),\n",
    "            \"106\",\n",
    "            batch_size=1024,\n",
    "            workers=0,\n",
    "            dataset=\"celeba\",\n",
    "            partition=\"train\",\n",
    "        )\n",
    "\n",
    "ab = [(sv.item(), target.item()) for sv, target in zip(train_loader.dataset.sensitive_features, train_loader.dataset.targets)]\n",
    "\n",
    "print(Counter(ab))\n",
    "\n",
    "max_disparity_dataset = []\n",
    "for target in [0, 1]:\n",
    "    for sv in [0, 1]:\n",
    "        current = RegularizationLoss().compute_violation_with_argmax(\n",
    "                    predictions_argmax=train_loader.dataset.targets,\n",
    "                    sensitive_attribute_list=train_loader.dataset.sensitive_features,\n",
    "                    current_target=target,\n",
    "                    current_sensitive_feature=sv,\n",
    "                )\n",
    "        print(target, sv, current)\n",
    "        max_disparity_dataset.append(current)\n",
    "\n",
    "        \n",
    "max_disparity_dataset"
   ]
  }
 ],
 "metadata": {
  "kernelspec": {
   "display_name": ".venv",
   "language": "python",
   "name": "python3"
  },
  "language_info": {
   "codemirror_mode": {
    "name": "ipython",
    "version": 3
   },
   "file_extension": ".py",
   "mimetype": "text/x-python",
   "name": "python",
   "nbconvert_exporter": "python",
   "pygments_lexer": "ipython3",
   "version": "3.8.10"
  },
  "orig_nbformat": 4
 },
 "nbformat": 4,
 "nbformat_minor": 2
}
