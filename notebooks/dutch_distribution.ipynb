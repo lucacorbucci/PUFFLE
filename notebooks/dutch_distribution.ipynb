{
 "cells": [
  {
   "cell_type": "code",
   "execution_count": 1,
   "metadata": {},
   "outputs": [
    {
     "name": "stderr",
     "output_type": "stream",
     "text": [
      "/home/lcorbucci/fl_privacy_utility_fairness/.venv/lib/python3.8/site-packages/tqdm/auto.py:21: TqdmWarning: IProgress not found. Please update jupyter and ipywidgets. See https://ipywidgets.readthedocs.io/en/stable/user_install.html\n",
      "  from .autonotebook import tqdm as notebook_tqdm\n",
      "2023-12-17 11:36:18,892\tINFO util.py:159 -- Missing packages: ['ipywidgets']. Run `pip install -U ipywidgets`, then restart the notebook server for rich notebook output.\n"
     ]
    }
   ],
   "source": [
    "from fl_puf.FederatedDataset.PartitionTypes.representative import Representative\n",
    "from fl_puf.FederatedDataset.PartitionTypes.balanced_and_unbalanced import (\n",
    "    BalancedAndUnbalanced,\n",
    ")\n",
    "\n",
    "import torch\n",
    "from fl_puf.FederatedDataset.Utils.utils import PartitionUtils\n",
    "from DPL.Utils.dataset_utils import DatasetUtils\n",
    "from fl_puf.Utils.utils import Utils\n",
    "import pandas as pd\n",
    "import matplotlib.pyplot as plt\n",
    "from fl_puf.Utils.tabular_data_loader import prepare_tabular_data\n",
    "from collections import Counter\n",
    "import torch"
   ]
  },
  {
   "cell_type": "code",
   "execution_count": 2,
   "metadata": {},
   "outputs": [
    {
     "name": "stdout",
     "output_type": "stream",
     "text": [
      "Using ['sex_binary'] as sensitive feature(s).\n"
     ]
    }
   ],
   "source": [
    "train_set, test_set = DatasetUtils.download_dataset(\n",
    "    \"dutch\",\n",
    "    train_csv=\"dutch_census\",\n",
    "    debug=True,\n",
    "    base_path=\"./data/Tabular/dutch/\",\n",
    ")"
   ]
  },
  {
   "cell_type": "code",
   "execution_count": 3,
   "metadata": {},
   "outputs": [
    {
     "name": "stdout",
     "output_type": "stream",
     "text": [
      "['age', 'household_position', 'household_size', 'prev_residence_place', 'citizenship', 'country_birth', 'edu_level', 'economic_status', 'cur_eco_activity', 'Marital_status', 'sex_binary']\n",
      "Index(['age', 'household_position', 'household_size', 'prev_residence_place',\n",
      "       'citizenship', 'country_birth', 'edu_level', 'economic_status',\n",
      "       'cur_eco_activity', 'Marital_status', 'sex_binary',\n",
      "       'occupation_binary'],\n",
      "      dtype='object')\n",
      "Using ['sex_binary'] as sensitive feature(s).\n",
      "Data shapes: x=(60420, 10), y=(60420,), z=(60420,)\n",
      "Mean of disparity 0.43932523995948297 - std 0.21071870095815304\n",
      "{'counter_combination': {'(1, 0)': 68, '(0, 0)': 113}, 'counter_sens_features': {'0': 181}, 'counter_targets': {'1': 68, '0': 113}, 'client_disparity': 0.6243093922651933, 'unfair_client': 0}\n",
      "{'counter_combination': {'(0, 1)': 82, '(0, 0)': 105, '(1, 0)': 64, '(1, 1)': 92}, 'counter_sens_features': {'1': 174, '0': 169}, 'counter_targets': {'0': 187, '1': 156}, 'client_disparity': 0.150037407331837, 'unfair_client': 0}\n",
      "{'counter_combination': {'(1, 0)': 54, '(0, 0)': 104}, 'counter_sens_features': {'0': 158}, 'counter_targets': {'1': 54, '0': 104}, 'client_disparity': 0.6582278481012658, 'unfair_client': 0}\n",
      "{'counter_combination': {'(0, 0)': 116, '(1, 0)': 62, '(0, 1)': 97, '(1, 1)': 68}, 'counter_sens_features': {'0': 178, '1': 165}, 'counter_targets': {'0': 213, '1': 130}, 'client_disparity': 0.06380660537963911, 'unfair_client': 0}\n",
      "{'counter_combination': {'(1, 0)': 64, '(0, 0)': 107}, 'counter_sens_features': {'0': 171}, 'counter_targets': {'1': 64, '0': 107}, 'client_disparity': 0.6257309941520468, 'unfair_client': 0}\n",
      "{'counter_combination': {'(1, 1)': 77, '(0, 0)': 112, '(1, 0)': 64, '(0, 1)': 90}, 'counter_sens_features': {'1': 167, '0': 176}, 'counter_targets': {'1': 141, '0': 202}, 'client_disparity': 0.09744148067501357, 'unfair_client': 0}\n",
      "{'counter_combination': {'(0, 0)': 101, '(1, 0)': 60}, 'counter_sens_features': {'0': 161}, 'counter_targets': {'0': 101, '1': 60}, 'client_disparity': 0.6273291925465838, 'unfair_client': 0}\n",
      "{'counter_combination': {'(0, 0)': 93, '(1, 0)': 68, '(0, 1)': 92, '(1, 1)': 90}, 'counter_sens_features': {'0': 161, '1': 182}, 'counter_targets': {'0': 185, '1': 158}, 'client_disparity': 0.07214524605828954, 'unfair_client': 0}\n",
      "{'counter_combination': {'(0, 0)': 107, '(1, 0)': 64}, 'counter_sens_features': {'0': 171}, 'counter_targets': {'0': 107, '1': 64}, 'client_disparity': 0.6257309941520468, 'unfair_client': 0}\n",
      "{'counter_combination': {'(0, 0)': 114, '(1, 1)': 80, '(0, 1)': 81, '(1, 0)': 68}, 'counter_sens_features': {'0': 182, '1': 161}, 'counter_targets': {'0': 195, '1': 148}, 'client_disparity': 0.12326803631151462, 'unfair_client': 0}\n",
      "{'counter_combination': {'(1, 0)': 67, '(0, 0)': 104}, 'counter_sens_features': {'0': 171}, 'counter_targets': {'1': 67, '0': 104}, 'client_disparity': 0.6081871345029239, 'unfair_client': 0}\n",
      "{'counter_combination': {'(1, 0)': 61, '(0, 0)': 107, '(1, 1)': 90, '(0, 1)': 85}, 'counter_sens_features': {'0': 168, '1': 175}, 'counter_targets': {'1': 151, '0': 192}, 'client_disparity': 0.15119047619047615, 'unfair_client': 0}\n",
      "{'counter_combination': {'(1, 0)': 61, '(0, 0)': 109}, 'counter_sens_features': {'0': 170}, 'counter_targets': {'1': 61, '0': 109}, 'client_disparity': 0.6411764705882353, 'unfair_client': 0}\n",
      "{'counter_combination': {'(0, 0)': 111, '(1, 0)': 66, '(0, 1)': 85, '(1, 1)': 81}, 'counter_sens_features': {'0': 177, '1': 166}, 'counter_targets': {'0': 196, '1': 147}, 'client_disparity': 0.11507045129671223, 'unfair_client': 0}\n",
      "{'counter_combination': {'(1, 0)': 65, '(0, 0)': 116}, 'counter_sens_features': {'0': 181}, 'counter_targets': {'1': 65, '0': 116}, 'client_disparity': 0.6408839779005525, 'unfair_client': 0}\n",
      "{'counter_combination': {'(0, 1)': 93, '(0, 0)': 95, '(1, 1)': 86, '(1, 0)': 69}, 'counter_sens_features': {'1': 179, '0': 164}, 'counter_targets': {'0': 188, '1': 155}, 'client_disparity': 0.05971522005722851, 'unfair_client': 0}\n",
      "{'counter_combination': {'(0, 0)': 118, '(1, 0)': 51}, 'counter_sens_features': {'0': 169}, 'counter_targets': {'0': 118, '1': 51}, 'client_disparity': 0.6982248520710059, 'unfair_client': 0}\n",
      "{'counter_combination': {'(0, 0)': 114, '(0, 1)': 93, '(1, 0)': 57, '(1, 1)': 79}, 'counter_sens_features': {'0': 171, '1': 172}, 'counter_targets': {'0': 207, '1': 136}, 'client_disparity': 0.12596899224806202, 'unfair_client': 0}\n",
      "{'counter_combination': {'(1, 0)': 56, '(0, 0)': 114}, 'counter_sens_features': {'0': 170}, 'counter_targets': {'1': 56, '0': 114}, 'client_disparity': 0.6705882352941176, 'unfair_client': 0}\n",
      "{'counter_combination': {'(0, 0)': 136, '(1, 0)': 61, '(0, 1)': 96, '(1, 1)': 50}, 'counter_sens_features': {'0': 197, '1': 146}, 'counter_targets': {'0': 232, '1': 111}, 'client_disparity': 0.03282108337389611, 'unfair_client': 0}\n",
      "{'counter_combination': {'(0, 0)': 128, '(1, 0)': 60}, 'counter_sens_features': {'0': 188}, 'counter_targets': {'0': 128, '1': 60}, 'client_disparity': 0.6808510638297872, 'unfair_client': 0}\n",
      "{'counter_combination': {'(0, 0)': 115, '(0, 1)': 99, '(1, 0)': 55, '(1, 1)': 74}, 'counter_sens_features': {'0': 170, '1': 173}, 'counter_targets': {'0': 214, '1': 129}, 'client_disparity': 0.10421625297517856, 'unfair_client': 0}\n",
      "{'counter_combination': {'(1, 0)': 63, '(0, 0)': 99}, 'counter_sens_features': {'0': 162}, 'counter_targets': {'1': 63, '0': 99}, 'client_disparity': 0.6111111111111112, 'unfair_client': 0}\n",
      "{'counter_combination': {'(0, 0)': 107, '(0, 1)': 103, '(1, 0)': 66, '(1, 1)': 67}, 'counter_sens_features': {'0': 173, '1': 170}, 'counter_targets': {'0': 210, '1': 133}, 'client_disparity': 0.012614756885413136, 'unfair_client': 0}\n",
      "{'counter_combination': {'(0, 0)': 96, '(1, 0)': 65}, 'counter_sens_features': {'0': 161}, 'counter_targets': {'0': 96, '1': 65}, 'client_disparity': 0.5962732919254659, 'unfair_client': 0}\n",
      "{'counter_combination': {'(0, 0)': 117, '(1, 0)': 60, '(0, 1)': 89, '(1, 1)': 77}, 'counter_sens_features': {'0': 177, '1': 166}, 'counter_targets': {'0': 206, '1': 137}, 'client_disparity': 0.12487237083928937, 'unfair_client': 0}\n",
      "{'counter_combination': {'(0, 0)': 100, '(1, 0)': 56}, 'counter_sens_features': {'0': 156}, 'counter_targets': {'0': 100, '1': 56}, 'client_disparity': 0.6410256410256411, 'unfair_client': 0}\n",
      "{'counter_combination': {'(0, 0)': 134, '(1, 0)': 49, '(0, 1)': 101, '(1, 1)': 59}, 'counter_sens_features': {'0': 183, '1': 160}, 'counter_targets': {'0': 235, '1': 108}, 'client_disparity': 0.10099043715847, 'unfair_client': 0}\n",
      "{'counter_combination': {'(0, 0)': 102, '(1, 0)': 70}, 'counter_sens_features': {'0': 172}, 'counter_targets': {'0': 102, '1': 70}, 'client_disparity': 0.5930232558139535, 'unfair_client': 0}\n",
      "{'counter_combination': {'(1, 0)': 65, '(0, 1)': 95, '(0, 0)': 111, '(1, 1)': 72}, 'counter_sens_features': {'0': 176, '1': 167}, 'counter_targets': {'1': 137, '0': 206}, 'client_disparity': 0.06181954273271639, 'unfair_client': 0}\n",
      "{'counter_combination': {'(1, 0)': 59, '(0, 0)': 101}, 'counter_sens_features': {'0': 160}, 'counter_targets': {'1': 59, '0': 101}, 'client_disparity': 0.63125, 'unfair_client': 0}\n",
      "{'counter_combination': {'(1, 0)': 54, '(0, 0)': 114, '(1, 1)': 79, '(0, 1)': 96}, 'counter_sens_features': {'0': 168, '1': 175}, 'counter_targets': {'1': 133, '0': 210}, 'client_disparity': 0.13, 'unfair_client': 0}\n",
      "{'counter_combination': {'(1, 0)': 59, '(0, 0)': 115}, 'counter_sens_features': {'0': 174}, 'counter_targets': {'1': 59, '0': 115}, 'client_disparity': 0.6609195402298851, 'unfair_client': 0}\n",
      "{'counter_combination': {'(0, 0)': 101, '(0, 1)': 93, '(1, 0)': 56, '(1, 1)': 93}, 'counter_sens_features': {'0': 157, '1': 186}, 'counter_targets': {'0': 194, '1': 149}, 'client_disparity': 0.143312101910828, 'unfair_client': 0}\n",
      "{'counter_combination': {'(1, 0)': 65, '(0, 0)': 114}, 'counter_sens_features': {'0': 179}, 'counter_targets': {'1': 65, '0': 114}, 'client_disparity': 0.6368715083798883, 'unfair_client': 0}\n",
      "{'counter_combination': {'(0, 1)': 89, '(0, 0)': 122, '(1, 0)': 63, '(1, 1)': 69}, 'counter_sens_features': {'1': 158, '0': 185}, 'counter_targets': {'0': 211, '1': 132}, 'client_disparity': 0.09616832021895316, 'unfair_client': 0}\n",
      "{'counter_combination': {'(0, 0)': 83, '(1, 0)': 71}, 'counter_sens_features': {'0': 154}, 'counter_targets': {'0': 83, '1': 71}, 'client_disparity': 0.538961038961039, 'unfair_client': 0}\n",
      "{'counter_combination': {'(0, 0)': 87, '(0, 1)': 86, '(1, 0)': 79, '(1, 1)': 91}, 'counter_sens_features': {'0': 166, '1': 177}, 'counter_targets': {'0': 173, '1': 170}, 'client_disparity': 0.03822067932747936, 'unfair_client': 0}\n",
      "{'counter_combination': {'(0, 0)': 129, '(1, 0)': 58}, 'counter_sens_features': {'0': 187}, 'counter_targets': {'0': 129, '1': 58}, 'client_disparity': 0.6898395721925134, 'unfair_client': 0}\n",
      "{'counter_combination': {'(0, 1)': 89, '(1, 0)': 72, '(0, 0)': 113, '(1, 1)': 69}, 'counter_sens_features': {'1': 158, '0': 185}, 'counter_targets': {'0': 202, '1': 141}, 'client_disparity': 0.047519671570304456, 'unfair_client': 0}\n",
      "{'counter_combination': {'(0, 0)': 116, '(1, 0)': 54}, 'counter_sens_features': {'0': 170}, 'counter_targets': {'0': 116, '1': 54}, 'client_disparity': 0.6823529411764706, 'unfair_client': 0}\n",
      "{'counter_combination': {'(1, 0)': 64, '(0, 1)': 101, '(0, 0)': 103, '(1, 1)': 75}, 'counter_sens_features': {'0': 167, '1': 176}, 'counter_targets': {'1': 139, '0': 204}, 'client_disparity': 0.04290283070223189, 'unfair_client': 0}\n",
      "{'counter_combination': {'(0, 0)': 105, '(1, 0)': 67}, 'counter_sens_features': {'0': 172}, 'counter_targets': {'0': 105, '1': 67}, 'client_disparity': 0.6104651162790697, 'unfair_client': 0}\n",
      "{'counter_combination': {'(0, 0)': 99, '(1, 1)': 87, '(1, 0)': 63, '(0, 1)': 94}, 'counter_sens_features': {'0': 162, '1': 181}, 'counter_targets': {'0': 193, '1': 150}, 'client_disparity': 0.09177409453652552, 'unfair_client': 0}\n",
      "{'counter_combination': {'(1, 0)': 61, '(0, 0)': 102}, 'counter_sens_features': {'0': 163}, 'counter_targets': {'1': 61, '0': 102}, 'client_disparity': 0.6257668711656442, 'unfair_client': 0}\n",
      "{'counter_combination': {'(0, 0)': 118, '(1, 0)': 60, '(0, 1)': 90, '(1, 1)': 75}, 'counter_sens_features': {'0': 178, '1': 165}, 'counter_targets': {'0': 208, '1': 135}, 'client_disparity': 0.11746680286006128, 'unfair_client': 0}\n",
      "{'counter_combination': {'(1, 0)': 68, '(0, 0)': 113}, 'counter_sens_features': {'0': 181}, 'counter_targets': {'1': 68, '0': 113}, 'client_disparity': 0.6243093922651933, 'unfair_client': 0}\n",
      "{'counter_combination': {'(0, 1)': 91, '(1, 0)': 59, '(0, 0)': 112, '(1, 1)': 81}, 'counter_sens_features': {'1': 172, '0': 171}, 'counter_targets': {'0': 203, '1': 140}, 'client_disparity': 0.12590099279205758, 'unfair_client': 0}\n",
      "{'counter_combination': {'(0, 0)': 106, '(1, 0)': 66}, 'counter_sens_features': {'0': 172}, 'counter_targets': {'0': 106, '1': 66}, 'client_disparity': 0.6162790697674418, 'unfair_client': 0}\n",
      "{'counter_combination': {'(1, 0)': 58, '(0, 0)': 102, '(0, 1)': 100, '(1, 1)': 83}, 'counter_sens_features': {'0': 160, '1': 183}, 'counter_targets': {'1': 141, '0': 202}, 'client_disparity': 0.09105191256830591, 'unfair_client': 0}\n",
      "{'counter_combination': {'(1, 0)': 72, '(0, 0)': 104}, 'counter_sens_features': {'0': 176}, 'counter_targets': {'1': 72, '0': 104}, 'client_disparity': 0.5909090909090909, 'unfair_client': 0}\n",
      "{'counter_combination': {'(1, 1)': 73, '(0, 0)': 92, '(0, 1)': 101, '(1, 0)': 77}, 'counter_sens_features': {'1': 174, '0': 169}, 'counter_targets': {'1': 150, '0': 193}, 'client_disparity': 0.036081071890090466, 'unfair_client': 0}\n",
      "{'counter_combination': {'(1, 0)': 77, '(0, 0)': 114}, 'counter_sens_features': {'0': 191}, 'counter_targets': {'1': 77, '0': 114}, 'client_disparity': 0.5968586387434555, 'unfair_client': 0}\n",
      "{'counter_combination': {'(0, 1)': 98, '(1, 0)': 65, '(0, 0)': 107, '(1, 1)': 73}, 'counter_sens_features': {'1': 171, '0': 172}, 'counter_targets': {'0': 205, '1': 138}, 'client_disparity': 0.04899360805113562, 'unfair_client': 0}\n",
      "{'counter_combination': {'(0, 0)': 117, '(1, 0)': 45}, 'counter_sens_features': {'0': 162}, 'counter_targets': {'0': 117, '1': 45}, 'client_disparity': 0.7222222222222222, 'unfair_client': 0}\n",
      "{'counter_combination': {'(0, 1)': 102, '(0, 0)': 103, '(1, 1)': 81, '(1, 0)': 57}, 'counter_sens_features': {'1': 183, '0': 160}, 'counter_targets': {'0': 205, '1': 138}, 'client_disparity': 0.08637295081967222, 'unfair_client': 0}\n",
      "{'counter_combination': {'(0, 0)': 115, '(1, 0)': 59}, 'counter_sens_features': {'0': 174}, 'counter_targets': {'0': 115, '1': 59}, 'client_disparity': 0.6609195402298851, 'unfair_client': 0}\n",
      "{'counter_combination': {'(0, 1)': 91, '(1, 0)': 52, '(0, 0)': 124, '(1, 1)': 76}, 'counter_sens_features': {'1': 167, '0': 176}, 'counter_targets': {'0': 215, '1': 128}, 'client_disparity': 0.15963527490473606, 'unfair_client': 0}\n",
      "{'counter_combination': {'(0, 0)': 113, '(1, 0)': 57}, 'counter_sens_features': {'0': 170}, 'counter_targets': {'0': 113, '1': 57}, 'client_disparity': 0.6647058823529411, 'unfair_client': 0}\n",
      "{'counter_combination': {'(1, 0)': 67, '(0, 0)': 105, '(0, 1)': 101, '(1, 1)': 70}, 'counter_sens_features': {'0': 172, '1': 171}, 'counter_targets': {'1': 137, '0': 206}, 'client_disparity': 0.01982184142526855, 'unfair_client': 0}\n",
      "{'counter_combination': {'(1, 0)': 71, '(0, 0)': 92}, 'counter_sens_features': {'0': 163}, 'counter_targets': {'1': 71, '0': 92}, 'client_disparity': 0.5644171779141104, 'unfair_client': 0}\n",
      "{'counter_combination': {'(0, 0)': 96, '(0, 1)': 102, '(1, 0)': 57, '(1, 1)': 88}, 'counter_sens_features': {'0': 153, '1': 190}, 'counter_targets': {'0': 198, '1': 145}, 'client_disparity': 0.09060887512899896, 'unfair_client': 0}\n",
      "{'counter_combination': {'(0, 0)': 104, '(1, 0)': 67}, 'counter_sens_features': {'0': 171}, 'counter_targets': {'0': 104, '1': 67}, 'client_disparity': 0.6081871345029239, 'unfair_client': 0}\n",
      "{'counter_combination': {'(0, 0)': 104, '(0, 1)': 101, '(1, 1)': 80, '(1, 0)': 58}, 'counter_sens_features': {'0': 162, '1': 181}, 'counter_targets': {'0': 205, '1': 138}, 'client_disparity': 0.08396425891821835, 'unfair_client': 0}\n",
      "{'counter_combination': {'(0, 0)': 114, '(1, 0)': 64}, 'counter_sens_features': {'0': 178}, 'counter_targets': {'0': 114, '1': 64}, 'client_disparity': 0.6404494382022472, 'unfair_client': 0}\n",
      "{'counter_combination': {'(1, 0)': 63, '(0, 0)': 97, '(0, 1)': 107, '(1, 1)': 76}, 'counter_sens_features': {'0': 160, '1': 183}, 'counter_targets': {'1': 139, '0': 204}, 'client_disparity': 0.021550546448087404, 'unfair_client': 0}\n",
      "{'counter_combination': {'(0, 0)': 97, '(1, 0)': 73}, 'counter_sens_features': {'0': 170}, 'counter_targets': {'0': 97, '1': 73}, 'client_disparity': 0.5705882352941176, 'unfair_client': 0}\n",
      "{'counter_combination': {'(0, 1)': 101, '(0, 0)': 107, '(1, 1)': 71, '(1, 0)': 64}, 'counter_sens_features': {'1': 172, '0': 171}, 'counter_targets': {'0': 208, '1': 135}, 'client_disparity': 0.038521691826465365, 'unfair_client': 0}\n",
      "{'counter_combination': {'(0, 0)': 109, '(1, 0)': 68}, 'counter_sens_features': {'0': 177}, 'counter_targets': {'0': 109, '1': 68}, 'client_disparity': 0.615819209039548, 'unfair_client': 0}\n",
      "{'counter_combination': {'(0, 1)': 81, '(0, 0)': 106, '(1, 0)': 67, '(1, 1)': 89}, 'counter_sens_features': {'1': 170, '0': 173}, 'counter_targets': {'0': 187, '1': 156}, 'client_disparity': 0.13624617477048628, 'unfair_client': 0}\n",
      "{'counter_combination': {'(1, 0)': 60, '(0, 0)': 105}, 'counter_sens_features': {'0': 165}, 'counter_targets': {'1': 60, '0': 105}, 'client_disparity': 0.6363636363636364, 'unfair_client': 0}\n",
      "{'counter_combination': {'(0, 1)': 97, '(1, 0)': 71, '(0, 0)': 101, '(1, 1)': 74}, 'counter_sens_features': {'1': 171, '0': 172}, 'counter_targets': {'0': 198, '1': 145}, 'client_disparity': 0.01995784033727732, 'unfair_client': 0}\n",
      "{'counter_combination': {'(0, 0)': 108, '(1, 0)': 57}, 'counter_sens_features': {'0': 165}, 'counter_targets': {'0': 108, '1': 57}, 'client_disparity': 0.6545454545454545, 'unfair_client': 0}\n",
      "{'counter_combination': {'(1, 0)': 60, '(0, 1)': 87, '(0, 0)': 108, '(1, 1)': 88}, 'counter_sens_features': {'0': 168, '1': 175}, 'counter_targets': {'1': 148, '0': 195}, 'client_disparity': 0.14571428571428574, 'unfair_client': 0}\n",
      "{'counter_combination': {'(1, 0)': 69, '(0, 0)': 102}, 'counter_sens_features': {'0': 171}, 'counter_targets': {'1': 69, '0': 102}, 'client_disparity': 0.5964912280701754, 'unfair_client': 0}\n",
      "{'counter_combination': {'(1, 1)': 163, '(0, 0)': 98, '(1, 0)': 60, '(0, 1)': 22}, 'counter_sens_features': {'1': 185, '0': 158}, 'counter_targets': {'1': 223, '0': 120}, 'client_disparity': 0.5013342456380431, 'unfair_client': 1}\n",
      "{'counter_combination': {'(0, 0)': 113, '(1, 1)': 150, '(1, 0)': 59, '(0, 1)': 21}, 'counter_sens_features': {'0': 172, '1': 171}, 'counter_targets': {'0': 134, '1': 209}, 'client_disparity': 0.5341697266421868, 'unfair_client': 1}\n",
      "{'counter_combination': {'(1, 1)': 141, '(0, 0)': 125, '(1, 0)': 56, '(0, 1)': 21}, 'counter_sens_features': {'1': 162, '0': 181}, 'counter_targets': {'1': 197, '0': 146}, 'client_disparity': 0.5609781051770002, 'unfair_client': 1}\n",
      "{'counter_combination': {'(0, 0)': 91, '(1, 1)': 175, '(1, 0)': 65, '(0, 1)': 12}, 'counter_sens_features': {'0': 156, '1': 187}, 'counter_targets': {'0': 103, '1': 240}, 'client_disparity': 0.5191622103386809, 'unfair_client': 1}\n",
      "{'counter_combination': {'(1, 0)': 60, '(1, 1)': 169, '(0, 0)': 100, '(0, 1)': 14}, 'counter_sens_features': {'0': 160, '1': 183}, 'counter_targets': {'1': 229, '0': 114}, 'client_disparity': 0.5484972677595629, 'unfair_client': 1}\n",
      "{'counter_combination': {'(0, 0)': 110, '(1, 1)': 162, '(1, 0)': 47, '(0, 1)': 24}, 'counter_sens_features': {'0': 157, '1': 186}, 'counter_targets': {'0': 134, '1': 209}, 'client_disparity': 0.5716046846106431, 'unfair_client': 1}\n",
      "{'counter_combination': {'(1, 1)': 148, '(1, 0)': 60, '(0, 0)': 119, '(0, 1)': 16}, 'counter_sens_features': {'1': 164, '0': 179}, 'counter_targets': {'1': 208, '0': 135}, 'client_disparity': 0.567243493663987, 'unfair_client': 1}\n",
      "{'counter_combination': {'(1, 1)': 149, '(1, 0)': 67, '(0, 0)': 109, '(0, 1)': 18}, 'counter_sens_features': {'1': 167, '0': 176}, 'counter_targets': {'1': 216, '0': 127}, 'client_disparity': 0.5115337506804573, 'unfair_client': 1}\n",
      "{'counter_combination': {'(0, 0)': 100, '(1, 1)': 166, '(1, 0)': 65, '(0, 1)': 12}, 'counter_sens_features': {'0': 165, '1': 178}, 'counter_targets': {'0': 112, '1': 231}, 'client_disparity': 0.5386448757235274, 'unfair_client': 1}\n",
      "{'counter_combination': {'(0, 0)': 101, '(1, 0)': 66, '(1, 1)': 155, '(0, 1)': 21}, 'counter_sens_features': {'0': 167, '1': 176}, 'counter_targets': {'0': 122, '1': 221}, 'client_disparity': 0.4854722373434948, 'unfair_client': 1}\n",
      "{'counter_combination': {'(1, 0)': 71, '(0, 0)': 96, '(1, 1)': 164, '(0, 1)': 12}, 'counter_sens_features': {'0': 167, '1': 176}, 'counter_targets': {'1': 235, '0': 108}, 'client_disparity': 0.5066684812193794, 'unfair_client': 1}\n",
      "{'counter_combination': {'(1, 1)': 164, '(0, 0)': 109, '(1, 0)': 57, '(0, 1)': 13}, 'counter_sens_features': {'1': 177, '0': 166}, 'counter_targets': {'1': 221, '0': 122}, 'client_disparity': 0.5831801783404805, 'unfair_client': 1}\n",
      "{'counter_combination': {'(1, 0)': 63, '(1, 1)': 147, '(0, 0)': 116, '(0, 1)': 17}, 'counter_sens_features': {'0': 179, '1': 164}, 'counter_targets': {'1': 210, '0': 133}, 'client_disparity': 0.5443861561520643, 'unfair_client': 1}\n",
      "{'counter_combination': {'(1, 1)': 145, '(0, 0)': 111, '(1, 0)': 66, '(0, 1)': 21}, 'counter_sens_features': {'1': 166, '0': 177}, 'counter_targets': {'1': 211, '0': 132}, 'client_disparity': 0.500612619971411, 'unfair_client': 1}\n",
      "{'counter_combination': {'(1, 1)': 149, '(0, 0)': 107, '(1, 0)': 67, '(0, 1)': 20}, 'counter_sens_features': {'1': 169, '0': 174}, 'counter_targets': {'1': 216, '0': 127}, 'client_disparity': 0.49659933346935997, 'unfair_client': 1}\n",
      "{'counter_combination': {'(0, 0)': 100, '(1, 0)': 72, '(1, 1)': 152, '(0, 1)': 19}, 'counter_sens_features': {'0': 172, '1': 171}, 'counter_targets': {'0': 119, '1': 224}, 'client_disparity': 0.47028423772609823, 'unfair_client': 1}\n",
      "{'counter_combination': {'(0, 0)': 113, '(1, 1)': 163, '(1, 0)': 44, '(0, 1)': 23}, 'counter_sens_features': {'0': 157, '1': 186}, 'counter_targets': {'0': 136, '1': 207}, 'client_disparity': 0.5960893089514416, 'unfair_client': 1}\n",
      "{'counter_combination': {'(1, 1)': 164, '(1, 0)': 63, '(0, 0)': 94, '(0, 1)': 22}, 'counter_sens_features': {'1': 186, '0': 157}, 'counter_targets': {'1': 227, '0': 116}, 'client_disparity': 0.4804465447572084, 'unfair_client': 1}\n",
      "{'counter_combination': {'(1, 0)': 66, '(0, 0)': 112, '(1, 1)': 146, '(0, 1)': 19}, 'counter_sens_features': {'0': 178, '1': 165}, 'counter_targets': {'1': 212, '0': 131}, 'client_disparity': 0.5140619679945523, 'unfair_client': 1}\n",
      "{'counter_combination': {'(1, 0)': 71, '(0, 0)': 104, '(1, 1)': 143, '(0, 1)': 25}, 'counter_sens_features': {'0': 175, '1': 168}, 'counter_targets': {'1': 214, '0': 129}, 'client_disparity': 0.44547619047619047, 'unfair_client': 1}\n",
      "{'counter_combination': {'(0, 0)': 104, '(1, 0)': 76, '(1, 1)': 142, '(0, 1)': 21}, 'counter_sens_features': {'0': 180, '1': 163}, 'counter_targets': {'0': 125, '1': 218}, 'client_disparity': 0.44894342194955683, 'unfair_client': 1}\n",
      "{'counter_combination': {'(1, 0)': 76, '(0, 0)': 120, '(1, 1)': 128, '(0, 1)': 19}, 'counter_sens_features': {'0': 196, '1': 147}, 'counter_targets': {'1': 204, '0': 139}, 'client_disparity': 0.48299319727891155, 'unfair_client': 1}\n",
      "{'counter_combination': {'(1, 1)': 152, '(1, 0)': 64, '(0, 0)': 109, '(0, 1)': 18}, 'counter_sens_features': {'1': 170, '0': 173}, 'counter_targets': {'1': 216, '0': 127}, 'client_disparity': 0.5241754505270316, 'unfair_client': 1}\n",
      "{'counter_combination': {'(0, 0)': 103, '(1, 1)': 153, '(1, 0)': 75, '(0, 1)': 12}, 'counter_sens_features': {'0': 178, '1': 165}, 'counter_targets': {'0': 115, '1': 228}, 'client_disparity': 0.5059244126659856, 'unfair_client': 1}\n",
      "{'counter_combination': {'(1, 0)': 61, '(1, 1)': 170, '(0, 0)': 92, '(0, 1)': 20}, 'counter_sens_features': {'0': 153, '1': 190}, 'counter_targets': {'1': 231, '0': 112}, 'client_disparity': 0.4960440316477468, 'unfair_client': 1}\n",
      "{'counter_combination': {'(0, 0)': 111, '(1, 0)': 66, '(1, 1)': 151, '(0, 1)': 15}, 'counter_sens_features': {'0': 177, '1': 166}, 'counter_targets': {'0': 126, '1': 217}, 'client_disparity': 0.5367571982846641, 'unfair_client': 1}\n",
      "{'counter_combination': {'(1, 0)': 55, '(0, 0)': 115, '(1, 1)': 155, '(0, 1)': 18}, 'counter_sens_features': {'0': 170, '1': 173}, 'counter_targets': {'1': 210, '0': 133}, 'client_disparity': 0.5724243454607276, 'unfair_client': 1}\n",
      "{'counter_combination': {'(1, 1)': 157, '(0, 0)': 103, '(1, 0)': 63, '(0, 1)': 20}, 'counter_sens_features': {'1': 177, '0': 166}, 'counter_targets': {'1': 220, '0': 123}, 'client_disparity': 0.5074875774283576, 'unfair_client': 1}\n",
      "{'counter_combination': {'(0, 0)': 109, '(1, 1)': 152, '(1, 0)': 71, '(0, 1)': 11}, 'counter_sens_features': {'0': 180, '1': 163}, 'counter_targets': {'0': 120, '1': 223}, 'client_disparity': 0.5380708929788685, 'unfair_client': 1}\n",
      "{'counter_combination': {'(0, 0)': 108, '(1, 1)': 151, '(1, 0)': 73, '(0, 1)': 11}, 'counter_sens_features': {'0': 181, '1': 162}, 'counter_targets': {'0': 119, '1': 224}, 'client_disparity': 0.528783848305027, 'unfair_client': 1}\n",
      "{'counter_combination': {'(1, 1)': 168, '(1, 0)': 57, '(0, 0)': 104, '(0, 1)': 14}, 'counter_sens_features': {'1': 182, '0': 161}, 'counter_targets': {'1': 225, '0': 118}, 'client_disparity': 0.5690396559961777, 'unfair_client': 1}\n",
      "{'counter_combination': {'(1, 1)': 159, '(1, 0)': 60, '(0, 0)': 112, '(0, 1)': 12}, 'counter_sens_features': {'1': 171, '0': 172}, 'counter_targets': {'1': 219, '0': 124}, 'client_disparity': 0.5809873521011832, 'unfair_client': 1}\n",
      "{'counter_combination': {'(1, 1)': 151, '(1, 0)': 71, '(0, 0)': 98, '(0, 1)': 23}, 'counter_sens_features': {'1': 174, '0': 169}, 'counter_targets': {'1': 222, '0': 121}, 'client_disparity': 0.4476977487587567, 'unfair_client': 1}\n",
      "{'counter_combination': {'(1, 1)': 150, '(0, 0)': 101, '(1, 0)': 67, '(0, 1)': 25}, 'counter_sens_features': {'1': 175, '0': 168}, 'counter_targets': {'1': 217, '0': 126}, 'client_disparity': 0.4583333333333333, 'unfair_client': 1}\n",
      "{'counter_combination': {'(0, 0)': 115, '(1, 0)': 67, '(1, 1)': 141, '(0, 1)': 20}, 'counter_sens_features': {'0': 182, '1': 161}, 'counter_targets': {'0': 135, '1': 208}, 'client_disparity': 0.5076445293836598, 'unfair_client': 1}\n",
      "{'counter_combination': {'(0, 0)': 113, '(1, 0)': 65, '(1, 1)': 145, '(0, 1)': 20}, 'counter_sens_features': {'0': 178, '1': 165}, 'counter_targets': {'0': 133, '1': 210}, 'client_disparity': 0.5136193394620361, 'unfair_client': 1}\n",
      "{'counter_combination': {'(1, 1)': 161, '(0, 0)': 97, '(1, 0)': 72, '(0, 1)': 13}, 'counter_sens_features': {'1': 174, '0': 169}, 'counter_targets': {'1': 233, '0': 110}, 'client_disparity': 0.4992518533632592, 'unfair_client': 1}\n",
      "{'counter_combination': {'(1, 1)': 142, '(0, 0)': 125, '(1, 0)': 55, '(0, 1)': 21}, 'counter_sens_features': {'1': 163, '0': 180}, 'counter_targets': {'1': 197, '0': 146}, 'client_disparity': 0.5656100886162235, 'unfair_client': 1}\n",
      "{'counter_combination': {'(0, 0)': 122, '(1, 0)': 63, '(1, 1)': 140, '(0, 1)': 18}, 'counter_sens_features': {'0': 185, '1': 158}, 'counter_targets': {'0': 140, '1': 203}, 'client_disparity': 0.545535408826548, 'unfair_client': 1}\n",
      "{'counter_combination': {'(1, 1)': 157, '(0, 0)': 108, '(1, 0)': 68, '(0, 1)': 10}, 'counter_sens_features': {'1': 167, '0': 176}, 'counter_targets': {'1': 225, '0': 118}, 'client_disparity': 0.5537561241154055, 'unfair_client': 1}\n",
      "{'counter_combination': {'(0, 0)': 102, '(1, 1)': 155, '(1, 0)': 76, '(0, 1)': 10}, 'counter_sens_features': {'0': 178, '1': 165}, 'counter_targets': {'0': 112, '1': 231}, 'client_disparity': 0.5124276472591078, 'unfair_client': 1}\n",
      "{'counter_combination': {'(1, 1)': 147, '(0, 0)': 112, '(1, 0)': 66, '(0, 1)': 18}, 'counter_sens_features': {'1': 165, '0': 178}, 'counter_targets': {'1': 213, '0': 130}, 'client_disparity': 0.5201225740551583, 'unfair_client': 1}\n",
      "{'counter_combination': {'(1, 0)': 68, '(0, 0)': 106, '(1, 1)': 155, '(0, 1)': 14}, 'counter_sens_features': {'0': 174, '1': 169}, 'counter_targets': {'1': 223, '0': 120}, 'client_disparity': 0.5263551656124601, 'unfair_client': 1}\n",
      "{'counter_combination': {'(1, 1)': 146, '(0, 0)': 116, '(1, 0)': 62, '(0, 1)': 19}, 'counter_sens_features': {'1': 165, '0': 178}, 'counter_targets': {'1': 208, '0': 135}, 'client_disparity': 0.5365338781069119, 'unfair_client': 1}\n",
      "{'counter_combination': {'(0, 0)': 103, '(1, 1)': 146, '(1, 0)': 79, '(0, 1)': 15}, 'counter_sens_features': {'0': 182, '1': 161}, 'counter_targets': {'0': 118, '1': 225}, 'client_disparity': 0.4727663640707119, 'unfair_client': 1}\n",
      "{'counter_combination': {'(1, 1)': 141, '(0, 0)': 107, '(1, 0)': 74, '(0, 1)': 21}, 'counter_sens_features': {'1': 162, '0': 181}, 'counter_targets': {'1': 215, '0': 128}, 'client_disparity': 0.46153059136484553, 'unfair_client': 1}\n",
      "{'counter_combination': {'(0, 0)': 110, '(1, 1)': 146, '(1, 0)': 64, '(0, 1)': 23}, 'counter_sens_features': {'0': 174, '1': 169}, 'counter_targets': {'0': 133, '1': 210}, 'client_disparity': 0.49608923348976397, 'unfair_client': 1}\n",
      "{'counter_combination': {'(0, 0)': 110, '(1, 1)': 152, '(1, 0)': 63, '(0, 1)': 18}, 'counter_sens_features': {'0': 173, '1': 170}, 'counter_targets': {'0': 128, '1': 215}, 'client_disparity': 0.5299557973478409, 'unfair_client': 1}\n",
      "{'counter_combination': {'(1, 0)': 72, '(1, 1)': 150, '(0, 0)': 107, '(0, 1)': 14}, 'counter_sens_features': {'0': 179, '1': 164}, 'counter_targets': {'1': 222, '0': 121}, 'client_disparity': 0.512399509469955, 'unfair_client': 1}\n",
      "{'counter_combination': {'(1, 0)': 70, '(1, 1)': 155, '(0, 0)': 99, '(0, 1)': 19}, 'counter_sens_features': {'0': 169, '1': 174}, 'counter_targets': {'1': 225, '0': 118}, 'client_disparity': 0.4766034142691967, 'unfair_client': 1}\n",
      "{'counter_combination': {'(0, 0)': 107, '(1, 1)': 149, '(1, 0)': 71, '(0, 1)': 16}, 'counter_sens_features': {'0': 178, '1': 165}, 'counter_targets': {'0': 123, '1': 220}, 'client_disparity': 0.5041538985359211, 'unfair_client': 1}\n",
      "{'counter_combination': {'(0, 0)': 95, '(1, 1)': 166, '(1, 0)': 69, '(0, 1)': 13}, 'counter_sens_features': {'0': 164, '1': 179}, 'counter_targets': {'0': 108, '1': 235}, 'client_disparity': 0.5066425943589045, 'unfair_client': 1}\n",
      "{'counter_combination': {'(0, 0)': 111, '(1, 0)': 65, '(1, 1)': 151, '(0, 1)': 16}, 'counter_sens_features': {'0': 176, '1': 167}, 'counter_targets': {'0': 127, '1': 216}, 'client_disparity': 0.5348734349482853, 'unfair_client': 1}\n",
      "{'counter_combination': {'(1, 1)': 147, '(1, 0)': 76, '(0, 0)': 105, '(0, 1)': 15}, 'counter_sens_features': {'1': 162, '0': 181}, 'counter_targets': {'1': 223, '0': 120}, 'client_disparity': 0.48751790464497646, 'unfair_client': 1}\n",
      "{'counter_combination': {'(1, 1)': 167, '(1, 0)': 59, '(0, 0)': 101, '(0, 1)': 16}, 'counter_sens_features': {'1': 183, '0': 160}, 'counter_targets': {'1': 226, '0': 117}, 'client_disparity': 0.543818306010929, 'unfair_client': 1}\n",
      "{'counter_combination': {'(1, 1)': 157, '(0, 0)': 109, '(1, 0)': 59, '(0, 1)': 18}, 'counter_sens_features': {'1': 175, '0': 168}, 'counter_targets': {'1': 216, '0': 127}, 'client_disparity': 0.545952380952381, 'unfair_client': 1}\n",
      "{'counter_combination': {'(1, 0)': 78, '(0, 0)': 100, '(1, 1)': 151, '(0, 1)': 14}, 'counter_sens_features': {'0': 178, '1': 165}, 'counter_targets': {'1': 229, '0': 114}, 'client_disparity': 0.47694926796050396, 'unfair_client': 1}\n",
      "{'counter_combination': {'(1, 0)': 54, '(1, 1)': 183, '(0, 0)': 86, '(0, 1)': 20}, 'counter_sens_features': {'0': 140, '1': 203}, 'counter_targets': {'1': 237, '0': 106}, 'client_disparity': 0.5157635467980296, 'unfair_client': 1}\n",
      "{'counter_combination': {'(1, 1)': 154, '(0, 0)': 102, '(1, 0)': 64, '(0, 1)': 23}, 'counter_sens_features': {'1': 177, '0': 166}, 'counter_targets': {'1': 218, '0': 125}, 'client_disparity': 0.4845143285004424, 'unfair_client': 1}\n",
      "{'counter_combination': {'(1, 1)': 136, '(1, 0)': 72, '(0, 0)': 116, '(0, 1)': 19}, 'counter_sens_features': {'1': 155, '0': 188}, 'counter_targets': {'1': 208, '0': 135}, 'client_disparity': 0.4944406314344544, 'unfair_client': 1}\n",
      "{'counter_combination': {'(0, 0)': 109, '(1, 0)': 59, '(1, 1)': 161, '(0, 1)': 14}, 'counter_sens_features': {'0': 168, '1': 175}, 'counter_targets': {'0': 123, '1': 220}, 'client_disparity': 0.5688095238095239, 'unfair_client': 1}\n",
      "{'counter_combination': {'(0, 0)': 113, '(1, 0)': 67, '(1, 1)': 146, '(0, 1)': 17}, 'counter_sens_features': {'0': 180, '1': 163}, 'counter_targets': {'0': 130, '1': 213}, 'client_disparity': 0.5234832992501705, 'unfair_client': 1}\n",
      "{'counter_combination': {'(0, 0)': 112, '(1, 1)': 146, '(1, 0)': 65, '(0, 1)': 20}, 'counter_sens_features': {'0': 177, '1': 166}, 'counter_targets': {'0': 132, '1': 211}, 'client_disparity': 0.5122864338710775, 'unfair_client': 1}\n",
      "{'counter_combination': {'(0, 0)': 111, '(1, 1)': 148, '(1, 0)': 69, '(0, 1)': 15}, 'counter_sens_features': {'0': 180, '1': 163}, 'counter_targets': {'0': 126, '1': 217}, 'client_disparity': 0.5246421267893661, 'unfair_client': 1}\n",
      "{'counter_combination': {'(1, 1)': 152, '(0, 0)': 110, '(1, 0)': 67, '(0, 1)': 14}, 'counter_sens_features': {'1': 166, '0': 177}, 'counter_targets': {'1': 219, '0': 124}, 'client_disparity': 0.5371315771560821, 'unfair_client': 1}\n",
      "{'counter_combination': {'(1, 0)': 64, '(1, 1)': 155, '(0, 0)': 104, '(0, 1)': 20}, 'counter_sens_features': {'0': 168, '1': 175}, 'counter_targets': {'1': 219, '0': 124}, 'client_disparity': 0.5047619047619047, 'unfair_client': 1}\n",
      "{'counter_combination': {'(0, 0)': 117, '(1, 1)': 143, '(1, 0)': 63, '(0, 1)': 20}, 'counter_sens_features': {'0': 180, '1': 163}, 'counter_targets': {'0': 137, '1': 206}, 'client_disparity': 0.5273006134969326, 'unfair_client': 1}\n",
      "{'counter_combination': {'(0, 0)': 109, '(1, 1)': 162, '(1, 0)': 57, '(0, 1)': 15}, 'counter_sens_features': {'0': 166, '1': 177}, 'counter_targets': {'0': 124, '1': 219}, 'client_disparity': 0.5718807433122319, 'unfair_client': 1}\n",
      "{'counter_combination': {'(1, 1)': 137, '(0, 0)': 108, '(1, 0)': 76, '(0, 1)': 22}, 'counter_sens_features': {'1': 159, '0': 184}, 'counter_targets': {'1': 213, '0': 130}, 'client_disparity': 0.4485917418649167, 'unfair_client': 1}\n",
      "{'counter_combination': {'(0, 0)': 98, '(1, 0)': 54, '(1, 1)': 176, '(0, 1)': 15}, 'counter_sens_features': {'0': 152, '1': 191}, 'counter_targets': {'0': 113, '1': 230}, 'client_disparity': 0.5662028106916506, 'unfair_client': 1}\n",
      "{'counter_combination': {'(1, 1)': 141, '(1, 0)': 80, '(0, 0)': 104, '(0, 1)': 18}, 'counter_sens_features': {'1': 159, '0': 184}, 'counter_targets': {'1': 221, '0': 122}, 'client_disparity': 0.4520098441345365, 'unfair_client': 1}\n",
      "{'counter_combination': {'(1, 1)': 154, '(0, 0)': 96, '(1, 0)': 78, '(0, 1)': 15}, 'counter_sens_features': {'1': 169, '0': 174}, 'counter_targets': {'1': 232, '0': 111}, 'client_disparity': 0.4629667414813303, 'unfair_client': 1}\n",
      "{'counter_combination': {'(1, 0)': 58, '(1, 1)': 171, '(0, 0)': 95, '(0, 1)': 19}, 'counter_sens_features': {'0': 153, '1': 190}, 'counter_targets': {'1': 229, '0': 114}, 'client_disparity': 0.5209150326797386, 'unfair_client': 1}\n",
      "{'counter_combination': {'(0, 0)': 100, '(1, 1)': 157, '(1, 0)': 66, '(0, 1)': 20}, 'counter_sens_features': {'0': 166, '1': 177}, 'counter_targets': {'0': 120, '1': 223}, 'client_disparity': 0.48941528827173103, 'unfair_client': 1}\n",
      "{'counter_combination': {'(1, 0)': 68, '(0, 0)': 112, '(1, 1)': 143, '(0, 1)': 20}, 'counter_sens_features': {'0': 180, '1': 163}, 'counter_targets': {'1': 211, '0': 132}, 'client_disparity': 0.49952283571915473, 'unfair_client': 1}\n"
     ]
    },
    {
     "data": {
      "image/png": "[encoded data removed]",
      "text/plain": [
       "<Figure size 2000x800 with 1 Axes>"
      ]
     },
     "metadata": {},
     "output_type": "display_data"
    }
   ],
   "source": [
    "fed_dir, _ = prepare_tabular_data(\n",
    "    dataset_path=\"./data/Tabular/dutch/\",\n",
    "    dataset_name=\"dutch\",\n",
    "    groups_balance_factor=None,\n",
    "    priv_balance_factor=None,\n",
    "    do_iid_split=True,\n",
    "    approach=\"representative\",\n",
    "    num_nodes=150,\n",
    "    ratio_unfair_nodes=0.5,\n",
    "    opposite_direction=False,\n",
    "    ratio_unfairness=(0.6, 0.8),\n",
    "    group_to_reduce=(0, 1),\n",
    "    group_to_increment=(1, 1),\n",
    "    number_of_samples_per_node=343,\n",
    "    opposite_group_to_reduce=None,\n",
    "    opposite_group_to_increment=None,\n",
    "    opposite_ratio_unfairness=None,\n",
    "    ratio_one_group_nodes=1.0,\n",
    ")"
   ]
  },
  {
   "cell_type": "code",
   "execution_count": 4,
   "metadata": {},
   "outputs": [
    {
     "data": {
      "text/plain": [
       "'./data/Tabular/dutch//federated'"
      ]
     },
     "execution_count": 4,
     "metadata": {},
     "output_type": "execute_result"
    }
   ],
   "source": [
    "fed_dir"
   ]
  },
  {
   "cell_type": "code",
   "execution_count": 5,
   "metadata": {},
   "outputs": [],
   "source": [
    "partitions = []\n",
    "for node_id in range(0, 150):\n",
    "    try:\n",
    "        node_data = torch.load(fed_dir + f\"/{node_id}/train.pt\")\n",
    "        partitions.append(node_data)\n",
    "    except:\n",
    "        continue"
   ]
  },
  {
   "cell_type": "code",
   "execution_count": 6,
   "metadata": {},
   "outputs": [],
   "source": [
    "clients_target_sensitive = []\n",
    "combinations = []\n",
    "for partition in partitions:\n",
    "    targets = partition.targets\n",
    "    sensitive = partition.gender\n",
    "    clients_target_sensitive.append(\n",
    "        [(target.item(), sv.item()) for target, sv in zip(targets, sensitive)]\n",
    "    )"
   ]
  },
  {
   "cell_type": "code",
   "execution_count": 7,
   "metadata": {},
   "outputs": [
    {
     "name": "stdout",
     "output_type": "stream",
     "text": [
      "Counter({(0, 0): 113, (1, 0): 68})\n",
      "Counter({(1, 1): 143, (0, 0): 112, (1, 0): 68, (0, 1): 20})\n"
     ]
    },
    {
     "data": {
      "image/png": "[encoded data removed]",
      "text/plain": [
       "<Figure size 2000x800 with 1 Axes>"
      ]
     },
     "metadata": {},
     "output_type": "display_data"
    }
   ],
   "source": [
    "counter_groups = [Counter(client_data) for client_data in clients_target_sensitive]\n",
    "print(counter_groups[0])\n",
    "print(counter_groups[-1])\n",
    "counter_group_0_0 = [counter[(0, 0.0)] for counter in counter_groups]\n",
    "counter_group_0_1 = [counter[(0, 1.0)] for counter in counter_groups]\n",
    "counter_group_1_0 = [counter[(1, 0.0)] for counter in counter_groups]\n",
    "counter_group_1_1 = [counter[(1, 1.0)] for counter in counter_groups]\n",
    "\n",
    "# plot a barplot with counter_group_0_0, counter_group_0_1, counter_group_1_0, counter_group_1_1\n",
    "# for each client in the same plot\n",
    "plt.figure(figsize=(20, 8))\n",
    "\n",
    "plt.bar(range(len(counter_group_0_0)), counter_group_0_0)\n",
    "plt.bar(range(len(counter_group_0_1)), counter_group_0_1, bottom=counter_group_0_0)\n",
    "plt.bar(\n",
    "    range(len(counter_group_1_0)),\n",
    "    counter_group_1_0,\n",
    "    bottom=[sum(x) for x in zip(counter_group_0_0, counter_group_0_1)],\n",
    ")\n",
    "plt.bar(\n",
    "    range(len(counter_group_1_1)),\n",
    "    counter_group_1_1,\n",
    "    bottom=[\n",
    "        sum(x) for x in zip(counter_group_0_0, counter_group_0_1, counter_group_1_0)\n",
    "    ],\n",
    ")\n",
    "\n",
    "\n",
    "plt.xlabel(\"Client\")\n",
    "plt.ylabel(\"Amount of samples\")\n",
    "plt.title(\"Samples for each group (target/sensitive Value) per client\")\n",
    "plt.legend([\"0,0\", \"0,1\", \"1,0\", \"1,1\"])\n",
    "# font size 20\n",
    "plt.rcParams.update({\"font.size\": 20})\n",
    "plt.tight_layout()\n",
    "\n",
    "# group_to_reduce=(0,1), group_to_increment=(1,1),\n",
    "# 0, 0 -> 1, 0"
   ]
  },
  {
   "cell_type": "markdown",
   "metadata": {},
   "source": [
    "# Original"
   ]
  },
  {
   "cell_type": "code",
   "execution_count": null,
   "metadata": {},
   "outputs": [],
   "source": [
    "celeba_df = pd.read_csv(\"./data/celeba/original_merged.csv\")\n",
    "celeba_df.shape"
   ]
  },
  {
   "cell_type": "code",
   "execution_count": null,
   "metadata": {},
   "outputs": [],
   "source": [
    "labels = celeba_df[\"Smiling\"].values\n",
    "gender = celeba_df[\"Male\"].values\n",
    "combinations = [(label, gen) for label, gen in zip(labels, gender)]\n",
    "combinations_with_index = [\n",
    "    (label, gen, index) for index, (label, gen) in enumerate(zip(labels, gender))\n",
    "]\n",
    "counter_combinations = Counter(combinations)\n",
    "counter_combinations"
   ]
  },
  {
   "cell_type": "code",
   "execution_count": null,
   "metadata": {},
   "outputs": [],
   "source": [
    "# celeba_df.to_csv(\"./data/celeba/new_test_reduced.csv\", index=False)"
   ]
  },
  {
   "cell_type": "code",
   "execution_count": null,
   "metadata": {},
   "outputs": [],
   "source": [
    "train_set, test_set = DatasetUtils.download_dataset(\n",
    "    \"celeba\",\n",
    "    train_csv=\"original_merged\",\n",
    "    debug=True,\n",
    "    base_path=\"./data/celeba\",\n",
    ")"
   ]
  },
  {
   "cell_type": "code",
   "execution_count": null,
   "metadata": {},
   "outputs": [],
   "source": [
    "train_path = Utils.prepare_dataset_for_FL(\n",
    "    dataset=train_set,\n",
    "    dataset_name=\"celeba\",\n",
    "    base_path=\"./data\",\n",
    ")"
   ]
  },
  {
   "cell_type": "code",
   "execution_count": null,
   "metadata": {},
   "outputs": [],
   "source": [
    "images, sensitive_attribute, labels = torch.load(train_path)\n",
    "mapping = {-1: 0, 1: 1}\n",
    "sensitive_attribute = torch.tensor([mapping[item] for item in sensitive_attribute])\n",
    "\n",
    "idx = torch.tensor(list(range(len(images))))\n",
    "dataset = [idx, sensitive_attribute, labels]\n",
    "pool_size = 150\n",
    "group_to_reduce = (1, 1)\n",
    "group_to_increment = (0, 1)"
   ]
  },
  {
   "cell_type": "code",
   "execution_count": null,
   "metadata": {},
   "outputs": [],
   "source": [
    "number_of_samples_per_node = None\n",
    "ratio_unfair_nodes = 0.50\n",
    "ratio_unfairness = (0, 0)\n",
    "partitions_index_list, metadata = Representative.do_partitioning(\n",
    "    labels=labels,\n",
    "    sensitive_features=sensitive_attribute,\n",
    "    num_partitions=pool_size,\n",
    "    total_num_classes=2,\n",
    "    group_to_reduce=group_to_reduce,\n",
    "    group_to_increment=group_to_increment,\n",
    "    number_of_samples_per_node=number_of_samples_per_node,\n",
    "    ratio_unfair_nodes=ratio_unfair_nodes,\n",
    "    ratio_unfairness=ratio_unfairness,\n",
    ")\n",
    "partitions = PartitionUtils.create_splitted_dataset_from_tuple(\n",
    "    splitted_indexes=partitions_index_list,\n",
    "    dataset=dataset,\n",
    ")"
   ]
  },
  {
   "cell_type": "code",
   "execution_count": null,
   "metadata": {},
   "outputs": [],
   "source": [
    "clients_target_sensitive = []\n",
    "combinations = []\n",
    "for partition in partitions:\n",
    "    targets = partition[2]\n",
    "    sensitive = partition[1]\n",
    "    clients_target_sensitive.append(\n",
    "        [(target.item(), sv.item()) for target, sv in zip(targets, sensitive)]\n",
    "    )"
   ]
  },
  {
   "cell_type": "code",
   "execution_count": null,
   "metadata": {},
   "outputs": [],
   "source": [
    "counter_groups = [Counter(client_data) for client_data in clients_target_sensitive]\n",
    "print(counter_groups[0])\n",
    "print(counter_groups[-1])\n",
    "counter_group_0_0 = [counter[(0, 0.0)] for counter in counter_groups]\n",
    "counter_group_0_1 = [counter[(0, 1.0)] for counter in counter_groups]\n",
    "counter_group_1_0 = [counter[(1, 0.0)] for counter in counter_groups]\n",
    "counter_group_1_1 = [counter[(1, 1.0)] for counter in counter_groups]\n",
    "\n",
    "# plot a barplot with counter_group_0_0, counter_group_0_1, counter_group_1_0, counter_group_1_1\n",
    "# for each client in the same plot\n",
    "plt.figure(figsize=(20, 8))\n",
    "\n",
    "plt.bar(range(len(counter_group_0_0)), counter_group_0_0)\n",
    "plt.bar(range(len(counter_group_0_1)), counter_group_0_1, bottom=counter_group_0_0)\n",
    "plt.bar(\n",
    "    range(len(counter_group_1_0)),\n",
    "    counter_group_1_0,\n",
    "    bottom=[sum(x) for x in zip(counter_group_0_0, counter_group_0_1)],\n",
    ")\n",
    "plt.bar(\n",
    "    range(len(counter_group_1_1)),\n",
    "    counter_group_1_1,\n",
    "    bottom=[\n",
    "        sum(x) for x in zip(counter_group_0_0, counter_group_0_1, counter_group_1_0)\n",
    "    ],\n",
    ")\n",
    "\n",
    "\n",
    "plt.xlabel(\"Client\")\n",
    "plt.ylabel(\"Amount of samples\")\n",
    "plt.title(\"Samples for each group (target/sensitive Value) per client\")\n",
    "plt.legend([\"0,0\", \"0,1\", \"1,0\", \"1,1\"])\n",
    "# font size 20\n",
    "plt.rcParams.update({\"font.size\": 20})\n",
    "plt.tight_layout()\n",
    "\n",
    "# group_to_reduce=(0,1), group_to_increment=(1,1),\n",
    "# 0, 0 -> 1, 0"
   ]
  },
  {
   "cell_type": "markdown",
   "metadata": {},
   "source": [
    "# Balanced and Unbalanced"
   ]
  },
  {
   "cell_type": "code",
   "execution_count": null,
   "metadata": {},
   "outputs": [],
   "source": [
    "images, sensitive_attribute, labels = torch.load(train_path)\n",
    "mapping = {-1: 0, 1: 1}\n",
    "sensitive_attribute = torch.tensor([mapping[item] for item in sensitive_attribute])\n",
    "\n",
    "idx = torch.tensor(list(range(len(images))))\n",
    "dataset = [idx, sensitive_attribute, labels]\n",
    "pool_size = 150\n",
    "group_to_reduce = (1, 1)\n",
    "group_to_increment = (0, 1)"
   ]
  },
  {
   "cell_type": "code",
   "execution_count": null,
   "metadata": {},
   "outputs": [],
   "source": [
    "partitions_index_list, metadata = BalancedAndUnbalanced.do_partitioning(\n",
    "    labels=labels,\n",
    "    sensitive_features=sensitive_attribute,\n",
    "    num_partitions=pool_size,\n",
    "    total_num_classes=2,\n",
    "    alpha=5,\n",
    "    percentage_unbalanced_nodes=0.5,\n",
    "    unbalanced_ratio=0.5,\n",
    ")"
   ]
  },
  {
   "cell_type": "code",
   "execution_count": null,
   "metadata": {},
   "outputs": [],
   "source": [
    "partitions = PartitionUtils.create_splitted_dataset_from_tuple(\n",
    "    splitted_indexes=partitions_index_list,\n",
    "    dataset=dataset,\n",
    ")"
   ]
  },
  {
   "cell_type": "code",
   "execution_count": null,
   "metadata": {},
   "outputs": [],
   "source": [
    "clients_target_sensitive = []\n",
    "combinations = []\n",
    "targets_nodes = []\n",
    "sensitive_values_nodes = []\n",
    "for partition in partitions:\n",
    "    targets = partition[1]\n",
    "    sensitive = partition[2]\n",
    "    targets_nodes.append(targets)\n",
    "    sensitive_values_nodes.append(sensitive)\n",
    "    clients_target_sensitive.append(\n",
    "        [(target.item(), sv.item()) for target, sv in zip(targets, sensitive)]\n",
    "    )"
   ]
  },
  {
   "cell_type": "code",
   "execution_count": null,
   "metadata": {},
   "outputs": [],
   "source": [
    "disparities = Representative.compute_disparities_debug(\n",
    "    predictions=targets_nodes, sensitive_features=sensitive_values_nodes\n",
    ")"
   ]
  },
  {
   "cell_type": "code",
   "execution_count": null,
   "metadata": {},
   "outputs": [],
   "source": [
    "counter_groups = [Counter(client_data) for client_data in clients_target_sensitive]\n",
    "print(counter_groups[0])\n",
    "print(counter_groups[-1])\n",
    "counter_group_0_0 = [counter[(0, 0.0)] for counter in counter_groups]\n",
    "counter_group_0_1 = [counter[(0, 1.0)] for counter in counter_groups]\n",
    "counter_group_1_0 = [counter[(1, 0.0)] for counter in counter_groups]\n",
    "counter_group_1_1 = [counter[(1, 1.0)] for counter in counter_groups]\n",
    "\n",
    "# plot a barplot with counter_group_0_0, counter_group_0_1, counter_group_1_0, counter_group_1_1\n",
    "# for each client in the same plot\n",
    "plt.figure(figsize=(20, 8))\n",
    "\n",
    "plt.bar(range(len(counter_group_0_0)), counter_group_0_0)\n",
    "plt.bar(range(len(counter_group_0_1)), counter_group_0_1, bottom=counter_group_0_0)\n",
    "plt.bar(\n",
    "    range(len(counter_group_1_0)),\n",
    "    counter_group_1_0,\n",
    "    bottom=[sum(x) for x in zip(counter_group_0_0, counter_group_0_1)],\n",
    ")\n",
    "plt.bar(\n",
    "    range(len(counter_group_1_1)),\n",
    "    counter_group_1_1,\n",
    "    bottom=[\n",
    "        sum(x) for x in zip(counter_group_0_0, counter_group_0_1, counter_group_1_0)\n",
    "    ],\n",
    ")\n",
    "\n",
    "\n",
    "plt.xlabel(\"Client\")\n",
    "plt.ylabel(\"Amount of samples\")\n",
    "plt.title(\"Samples for each group (target/sensitive Value) per client\")\n",
    "plt.legend([\"0,0\", \"0,1\", \"1,0\", \"1,1\"])\n",
    "# font size 20\n",
    "plt.rcParams.update({\"font.size\": 20})\n",
    "plt.tight_layout()\n",
    "\n",
    "# group_to_reduce=(0,1), group_to_increment=(1,1),\n",
    "# 0, 0 -> 1, 0"
   ]
  }
 ],
 "metadata": {
  "kernelspec": {
   "display_name": ".venv",
   "language": "python",
   "name": "python3"
  },
  "language_info": {
   "codemirror_mode": {
    "name": "ipython",
    "version": 3
   },
   "file_extension": ".py",
   "mimetype": "text/x-python",
   "name": "python",
   "nbconvert_exporter": "python",
   "pygments_lexer": "ipython3",
   "version": "3.8.10"
  },
  "orig_nbformat": 4
 },
 "nbformat": 4,
 "nbformat_minor": 2
}
